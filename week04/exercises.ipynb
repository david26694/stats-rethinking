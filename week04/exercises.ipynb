{
 "cells": [
  {
   "attachments": {},
   "cell_type": "markdown",
   "metadata": {},
   "source": [
    "You can use MCMC to solve these problems. But it’s not required.\n",
    "1. Revisit the marriage, age, and happiness collider bias example from Chap-\n",
    "ter 6. Run models m6.9 and m6.10 again (pages 178–179). Compare these\n",
    "two models using both PSIS and WAIC. Which model is expected to make\n",
    "better predictions, according to these criteria, and which model yields the\n",
    "correct causal inference?\n"
   ]
  },
  {
   "cell_type": "code",
   "execution_count": 1,
   "metadata": {},
   "outputs": [],
   "source": []
  },
  {
   "attachments": {},
   "cell_type": "markdown",
   "metadata": {},
   "source": [
    "2. Reconsider the urban fox analysis from last week’s homework. On the\n",
    "basis of PSIS and WAIC scores, which combination of variables best predicts\n",
    "body weight (W, weight)? What causal interpretation can you assign each\n",
    "coefficient (parameter) from the best scoring model?\n"
   ]
  },
  {
   "attachments": {},
   "cell_type": "markdown",
   "metadata": {},
   "source": [
    "3. Build a predictive model of the relationship show on the cover of the book,\n",
    "the relationship between the timing of cherry blossoms and March temper-\n",
    "ature in the same year. The data are found in data(cherry_blossoms).\n",
    "Consider at least two different models (functional relationships) to predict\n",
    "doy with temp. You could for example compare a linear model with a qua-\n",
    "dratic model. Compare them with PSIS or WAIC.\n",
    "Suppose March temperatures reach 9 degrees by the year 2050. What does\n",
    "your best model predict for the predictive distribution of the day-in-year that\n",
    "the cherry trees will blossom?\n"
   ]
  },
  {
   "cell_type": "markdown",
   "metadata": {},
   "source": [
    "4-OPTIONALCHALLENGE. The data in data(Dinosaurs)are body mass\n",
    "estimates at different estimated ages for six different dinosaur species. See\n",
    "?Dinosaurs for more details. Choose one or more of these species (at least\n",
    "one, but as many as you like) and model its growth. To be precise: Make\n",
    "a predictive model of body mass using age as a predictor. Consider two or\n",
    "more model types for the function relating age to body mass and score each\n",
    "using PSIS and WAIC.\n",
    "Which model do you think is best, on predictive grounds? On scientific\n",
    "grounds? If your answers to these questions differ, why?\n",
    "This is a challenging exercise, because the data are so scarce. But it is also a\n",
    "realistic example, because people publish Nature papers with even less data.\n",
    "So do your best, and I look forward to seeing your growth curves.\n",
    "1"
   ]
  },
  {
   "cell_type": "code",
   "execution_count": null,
   "metadata": {},
   "outputs": [],
   "source": []
  }
 ],
 "metadata": {
  "kernelspec": {
   "display_name": ".venv",
   "language": "python",
   "name": "python3"
  },
  "language_info": {
   "codemirror_mode": {
    "name": "ipython",
    "version": 3
   },
   "file_extension": ".py",
   "mimetype": "text/x-python",
   "name": "python",
   "nbconvert_exporter": "python",
   "pygments_lexer": "ipython3",
   "version": "3.8.6"
  },
  "orig_nbformat": 4,
  "vscode": {
   "interpreter": {
    "hash": "5a96d29e3981858725716ead152b8c744945d7f8553be741d65a3f5e109437c4"
   }
  }
 },
 "nbformat": 4,
 "nbformat_minor": 2
}
